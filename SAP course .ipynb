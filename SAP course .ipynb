{
 "cells": [
  {
   "cell_type": "code",
   "execution_count": null,
   "id": "1775f1eb",
   "metadata": {},
   "outputs": [],
   "source": []
  },
  {
   "cell_type": "markdown",
   "id": "3829ac0b",
   "metadata": {},
   "source": [
    "# #assignment\n"
   ]
  },
  {
   "cell_type": "markdown",
   "id": "34062011",
   "metadata": {},
   "source": [
    "1.write a program to convert temp in degree farenheit into celcius\n",
    "2.write a program to exchange the value of two  variable using a temp variable\n",
    "3.write a program to find the distance between 2 points.\n",
    "4.perform a case study on the following operations in tuple \n",
    "1.maxima\n",
    "2,minima\n",
    "3.concatenation of two tuple \n",
    "4.duplicate a tuple \n",
    "5.slicing a tuple\n",
    "6.obtaining a list from a tulple \n",
    "7.compare two tuples \n",
    "8. printing 2 tuples of diffeent data types.\n",
    "9.write a program to find out square root of 2 numbers\n",
    "10.write a program find factorial of number\n",
    "11.program sum of digits of a number\n",
    "12.write a program to reverse a number\n",
    "13.write a program to check whether tn=he the given number is palindrome or nt\n",
    "14.write a program to print fibonacci series\n",
    "15.write a program to print primenumbers in a range.\n",
    "16.write a program to find the greatest of three numbers.\n",
    "17.design a calculator."
   ]
  },
  {
   "cell_type": "code",
   "execution_count": 1,
   "id": "0090bbc9",
   "metadata": {},
   "outputs": [
    {
     "name": "stdout",
     "output_type": "stream",
     "text": [
      "enter the degree of farenheit:9\n",
      "-12.777777777777779\n"
     ]
    }
   ],
   "source": [
    "#1.write a program to convert temp in degree farenheit into celcius\n",
    "fah_deg=float(input(\"enter the degree of farenheit:\"))\n",
    "deg_cel=(fah_deg-32)*5/9\n",
    "print(deg_cel)\n"
   ]
  },
  {
   "cell_type": "code",
   "execution_count": 2,
   "id": "a5e82d9d",
   "metadata": {},
   "outputs": [
    {
     "name": "stdout",
     "output_type": "stream",
     "text": [
      "enter the value of a:50\n",
      "enter the value of b:p\n"
     ]
    },
    {
     "ename": "ValueError",
     "evalue": "invalid literal for int() with base 10: 'p'",
     "output_type": "error",
     "traceback": [
      "\u001b[1;31m---------------------------------------------------------------------------\u001b[0m",
      "\u001b[1;31mValueError\u001b[0m                                Traceback (most recent call last)",
      "\u001b[1;32mC:\\Users\\GURUVI~1\\AppData\\Local\\Temp/ipykernel_49756/694485879.py\u001b[0m in \u001b[0;36m<module>\u001b[1;34m\u001b[0m\n\u001b[0;32m      1\u001b[0m \u001b[1;31m#2.write a program to exchange the value of two variable using a temp variable\u001b[0m\u001b[1;33m\u001b[0m\u001b[1;33m\u001b[0m\u001b[0m\n\u001b[0;32m      2\u001b[0m \u001b[0ma\u001b[0m\u001b[1;33m=\u001b[0m\u001b[0mint\u001b[0m\u001b[1;33m(\u001b[0m\u001b[0minput\u001b[0m\u001b[1;33m(\u001b[0m\u001b[1;34m\"enter the value of a:\"\u001b[0m\u001b[1;33m)\u001b[0m\u001b[1;33m)\u001b[0m\u001b[1;33m\u001b[0m\u001b[1;33m\u001b[0m\u001b[0m\n\u001b[1;32m----> 3\u001b[1;33m \u001b[0mb\u001b[0m\u001b[1;33m=\u001b[0m\u001b[0mint\u001b[0m\u001b[1;33m(\u001b[0m\u001b[0minput\u001b[0m\u001b[1;33m(\u001b[0m\u001b[1;34m\"enter the value of b:\"\u001b[0m\u001b[1;33m)\u001b[0m\u001b[1;33m)\u001b[0m\u001b[1;33m\u001b[0m\u001b[1;33m\u001b[0m\u001b[0m\n\u001b[0m\u001b[0;32m      4\u001b[0m \u001b[0mtemp\u001b[0m\u001b[1;33m=\u001b[0m\u001b[0ma\u001b[0m\u001b[1;33m\u001b[0m\u001b[1;33m\u001b[0m\u001b[0m\n\u001b[0;32m      5\u001b[0m \u001b[0ma\u001b[0m\u001b[1;33m=\u001b[0m\u001b[0mb\u001b[0m\u001b[1;33m\u001b[0m\u001b[1;33m\u001b[0m\u001b[0m\n",
      "\u001b[1;31mValueError\u001b[0m: invalid literal for int() with base 10: 'p'"
     ]
    }
   ],
   "source": [
    "#2.write a program to exchange the value of two variable using a temp variable\n",
    "a=int(input(\"enter the value of a:\"))\n",
    "b=int(input(\"enter the value of b:\"))\n",
    "temp=a\n",
    "a=b\n",
    "b=temp\n",
    "print(a)\n",
    "print(b)"
   ]
  },
  {
   "cell_type": "code",
   "execution_count": null,
   "id": "d10b5384",
   "metadata": {},
   "outputs": [],
   "source": [
    "#3write a program to find the distance between 2 points.\n",
    "x,y=3,5\n",
    "x1,y1=6,10\n",
    "d=(y1-y)/(x1-x)\n",
    "print(d)"
   ]
  },
  {
   "cell_type": "code",
   "execution_count": null,
   "id": "618e56f0",
   "metadata": {},
   "outputs": [],
   "source": [
    "# 4.perform a case study on the following operations in tuple \n",
    "x=(12,34,56,83)\n",
    "y=(56,'vishnu')\n",
    "# 1.maxima\n",
    "max(x)#83\n",
    "#2,minima\n",
    "min(x)#12\n",
    "#concatenation of tuple \n",
    "z=(x+y)\n",
    "print(z)\n",
    "#duplicate a tuple\n",
    "\n"
   ]
  },
  {
   "cell_type": "code",
   "execution_count": null,
   "id": "59ab6c1d",
   "metadata": {},
   "outputs": [],
   "source": [
    "# write a program find factorial of number\n",
    "a=int(input(\"enter the value:\"))\n",
    "fact=1\n",
    "if a<0:\n",
    "    print(\"the factorial of negative numbers doesnot exist\")\n",
    "elif a==0:\n",
    "    print(\"the factorial of 0 is 1\");\n",
    "else:\n",
    "    for i in range(1,a+1):\n",
    "        fact*=i\n",
    "    print(\"the factorial of \",a,\"is\",fact)"
   ]
  },
  {
   "cell_type": "code",
   "execution_count": null,
   "id": "78e5bbd7",
   "metadata": {},
   "outputs": [],
   "source": [
    "#program sum of digits of a number\n",
    "num=int(input(\"enter a number:\"))\n",
    "sum=0\n",
    "while(num>0):\n",
    "    sum=sum+int(num%10)\n",
    "    num=int(num/10)\n",
    "print(sum)\n",
    "\n"
   ]
  },
  {
   "cell_type": "code",
   "execution_count": null,
   "id": "e3463ccc",
   "metadata": {},
   "outputs": [],
   "source": [
    "#write a program to check whether the given number is palindrome or not\n",
    "num=int(input(\"enter the number:\"))\n",
    "temp=num\n",
    "rev=0\n",
    "while(num>0):\n",
    "    dig=num%10\n",
    "    rev=rev*10+dig\n",
    "    num=num//10\n",
    "if(temp==rev):\n",
    "    print(\"the given number is palindrome\")\n",
    "else:\n",
    "    print(\"the given number is not a palindrome\")\n"
   ]
  },
  {
   "cell_type": "markdown",
   "id": "aeda7c18",
   "metadata": {},
   "source": [
    "# numpy module\n"
   ]
  },
  {
   "cell_type": "code",
   "execution_count": null,
   "id": "7c4107c5",
   "metadata": {},
   "outputs": [],
   "source": [
    "# numpy-numerical python library\n",
    "# import numpy library\n",
    "import numpy as np\n",
    "# create simple array from the list\n",
    "arr=np.array([[1,2,3,4],[5,6,7,8]])\n",
    "print(arr.ndim)\n",
    "print(arr.shape)\n",
    "print(type(arr))\n",
    "print(arr.data)\n"
   ]
  },
  {
   "cell_type": "markdown",
   "id": "84c47273",
   "metadata": {},
   "source": [
    "# data visualization:"
   ]
  },
  {
   "cell_type": "code",
   "execution_count": null,
   "id": "d621a03f",
   "metadata": {},
   "outputs": [],
   "source": [
    "import matplotlib as plt\n",
    "import matplotlib.pyplot as plt\n",
    "x=[1,2,3]\n",
    "y=[3,4,5]\n",
    "plt.plot(x,y)\n",
    "plt.show()\n",
    "# markers\n",
    "plt.plot(ypoints, marker = 'o')\n",
    "plt.show()\n",
    "#colors\n",
    "plt.plot(ypoints, color = 'r')\n",
    "plt.show()\n",
    "#markers\n",
    "plt.plot(ypoints,linestyle ='dotted')\n",
    "plt.show()"
   ]
  },
  {
   "cell_type": "code",
   "execution_count": null,
   "id": "93e84998",
   "metadata": {},
   "outputs": [],
   "source": [
    "#bar plot\n",
    "#importing matplotlib module\n",
    "from matplotlib import pyplot as plt\n",
    "#x axis values\n",
    "x=[3,5,2,7,9]\n",
    "#y axis values\n",
    "y=[6,4,7,8,9]\n",
    "#function to plot\n",
    "plt.bar(x,y)\n",
    "#function to show plt\n",
    "plt.show()\n",
    "#scatter plot\n",
    "plt.scatter(x,y)\n",
    "plt.show()"
   ]
  },
  {
   "cell_type": "code",
   "execution_count": null,
   "id": "3189ad7f",
   "metadata": {},
   "outputs": [],
   "source": [
    "#ticks are the markers denoting data points on axes\n",
    "#importing modules\n",
    "import matplotlib.pyplot as plt\n",
    "import numpy as np\n",
    "#values of  x axis and y axis\n",
    "x=[5,10,15,20,25,30]\n",
    "y=[6,4,7,8,2.3,3]\n",
    "plt.plot(x,y,'g')\n",
    "plt.xlabel('x')\n",
    "plt.ylabel('y')\n",
    "plt.title(\"tick_params\")\n",
    "plt.xlabel(\"x_params\")\n",
    "plt.ylabel(\"y_params\")\n",
    "\n",
    "#here we set the size of ticks ,rotation and color value\n",
    "plt.tick_params(axis=\"x\", labelsize=18,labelrotation=60,labelcolor=\"blue\")\n",
    "plt.tick_params(axis=\"y\", labelsize=12,labelrotation=20,labelcolor=\"black\")\n",
    "plt.show()"
   ]
  },
  {
   "cell_type": "code",
   "execution_count": null,
   "id": "29c76624",
   "metadata": {},
   "outputs": [],
   "source": [
    "# adding legend in the graph\n",
    "import numpy as np\n",
    "import matplotlib.pyplot as plt\n",
    "x=[2,3,4,5]\n",
    "y=[1,2.4,5]\n",
    "plt.plot(x)\n",
    "plt.plot(y)\n",
    "# plt.legend(['blue','green'],loc=\"lower right\")\n",
    "# plt.legend(['blue','green'],loc=\"lower left\")\n",
    "# plt.legend(['blue','green'],loc=\"upper left\")\n",
    "plt.legend(['blue','green'],loc=\"upper center\")\n",
    "# plt.legend(['blue','green'],loc=\"center\")\n",
    "plt.show()"
   ]
  },
  {
   "cell_type": "code",
   "execution_count": null,
   "id": "32920eee",
   "metadata": {},
   "outputs": [],
   "source": [
    "#plotting the histogram\n",
    "# print(data)\n",
    "import numpy as np\n",
    "import matplotlib.pyplot as plt\n",
    "data = np.random.normal(170,10,250)\n",
    "# the hist() function will read the array and produce a histogram\n",
    "#set the bin value 30\n",
    "plt.hist(data);\n",
    "plt.show()\n",
    "plt.hist(data,bins=30);\n",
    "plt.show()\n"
   ]
  },
  {
   "cell_type": "code",
   "execution_count": 10,
   "id": "087ec49c",
   "metadata": {},
   "outputs": [
    {
     "data": {
      "image/png": "[encoded data removed]",
      "text/plain": [
       "<Figure size 432x288 with 1 Axes>"
      ]
     },
     "metadata": {
      "needs_background": "light"
     },
     "output_type": "display_data"
    }
   ],
   "source": [
    "import numpy as np\n",
    "import matplotlib.pyplot as plt\n",
    "fig, ax=plt.subplots()\n",
    "x=np.linspace(0,20,1000)\n",
    "ax.plot(x,np.cos(x))\n",
    "ax.axis('equal')\n",
    "# text annotation to the plot where it indicate maxmimum value of the curve\n",
    "ax.annotate('local maximum',xy=(6.28,1),xytext=(10,4),arrowprops=dict(facecolor='black',shrink=0.05))\n",
    "# text annotation to the plot where it indicate minimum value of the curve\n",
    "ax.annotate('local minimum',xy=(5 * np.pi,-1), xytext=(2,-6), arrowprops=dict(arrowstyle=\"->\",connectionstyle=\"angle3,angleA=0,angleB=-90\"));"
   ]
  },
  {
   "cell_type": "code",
   "execution_count": 15,
   "id": "31f81700",
   "metadata": {},
   "outputs": [
    {
     "data": {
      "text/plain": [
       "[<matplotlib.lines.Line2D at 0x1cab14231f0>]"
      ]
     },
     "execution_count": 15,
     "metadata": {},
     "output_type": "execute_result"
    },
    {
     "data": {
      "image/png": "[encoded data removed]",
      "text/plain": [
       "<Figure size 280x210 with 1 Axes>"
      ]
     },
     "metadata": {
      "needs_background": "light"
     },
     "output_type": "display_data"
    }
   ],
   "source": [
    "import matplotlib.pyplot as plt\n",
    "w = 4\n",
    "h = 3\n",
    "d = 70\n",
    "plt.figure(figsize=(w,h),dpi=d)\n",
    "plt.axis([0,5,0,5])\n",
    "x=[0,3,5]\n",
    "y=[1,4,3.5]\n",
    "label_x = 1\n",
    "label_y = 4 \n",
    "arrow_x = 3\n",
    "arrow_y = 4\n",
    "arrow_properties=dict(facecolor=\"black\",width=0.5,headwidth=4,shrink=0.1)\n",
    "plt.annotate(\"maximum\",xy=(arrow_x,arrow_y),xytext=(label_x,label_y),arrowprops=arrow_properties)\n",
    "plt.plot(x,y)"
   ]
  },
  {
   "cell_type": "code",
   "execution_count": 22,
   "id": "00fa226f",
   "metadata": {},
   "outputs": [
    {
     "data": {
      "image/png": "[encoded data removed]",
      "text/plain": [
       "<Figure size 432x288 with 1 Axes>"
      ]
     },
     "metadata": {
      "needs_background": "light"
     },
     "output_type": "display_data"
    }
   ],
   "source": [
    "from mpl_toolkits import mplot3d\n",
    "import matplotlib.pyplot as plt\n",
    "import numpy as np\n",
    "fig=plt.figure()\n",
    "ax=plt.axes(projection='3d')\n",
    "z=np.linspace(0,1,100)\n",
    "x=z*np.sin(25 * z)\n",
    "y = z*np.cos(25 * z)\n",
    "ax.plot3D(x,y,z,'green')\n",
    "ax.set_title('3D line plot')\n",
    "plt.show()\n"
   ]
  },
  {
   "cell_type": "code",
   "execution_count": null,
   "id": "8482f0e2",
   "metadata": {},
   "outputs": [],
   "source": [
    "()"
   ]
  }
 ],
 "metadata": {
  "kernelspec": {
   "display_name": "Python 3 (ipykernel)",
   "language": "python",
   "name": "python3"
  },
  "language_info": {
   "codemirror_mode": {
    "name": "ipython",
    "version": 3
   },
   "file_extension": ".py",
   "mimetype": "text/x-python",
   "name": "python",
   "nbconvert_exporter": "python",
   "pygments_lexer": "ipython3",
   "version": "3.9.7"
  }
 },
 "nbformat": 4,
 "nbformat_minor": 5
}
