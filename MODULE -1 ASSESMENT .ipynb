{
 "cells": [
  {
   "cell_type": "code",
   "execution_count": 5,
   "id": "9cf7d357",
   "metadata": {},
   "outputs": [
    {
     "name": "stdout",
     "output_type": "stream",
     "text": [
      "enter the no.of elements in list:4\n",
      "enter element1:23\n",
      "enter element2:32\n",
      "enter element3:34\n",
      "enter element4:45\n",
      "new list is:\n",
      "[45, 32, 34, 23]\n"
     ]
    }
   ],
   "source": [
    "# MODULE -1\n",
    "# 1.1write a python program to swap first and last element of the list.\n",
    "a=[]\n",
    "n=int(input(\"enter the no.of elements in list:\"))\n",
    "for x in range(0,n):\n",
    "    num=int(input('enter element' +str(x+1) +\":\"))\n",
    "    a.append(num)\n",
    "temp=a[0]\n",
    "a[0]=a[n-1]\n",
    "a[n-1]=temp\n",
    "print(\"new list is:\")\n",
    "print(a)\n"
   ]
  },
  {
   "cell_type": "code",
   "execution_count": 8,
   "id": "7297553f",
   "metadata": {},
   "outputs": [
    {
     "name": "stdout",
     "output_type": "stream",
     "text": [
      "the length of the list_1 is :\n",
      "5\n"
     ]
    }
   ],
   "source": [
    "# 1.2write a python program to find the length of list using for loop\n",
    "list_1=['python','kotlin','flutter','java','machine learning']\n",
    "size=0\n",
    "print(\"the length of the list_1 is :\")\n",
    "for i in list_1:\n",
    "    size+=1\n",
    "print(size)\n",
    "\n",
    "\n",
    "    "
   ]
  },
  {
   "cell_type": "code",
   "execution_count": 9,
   "id": "3d4d8ba7",
   "metadata": {},
   "outputs": [
    {
     "name": "stdout",
     "output_type": "stream",
     "text": [
      "[9, 10, 11]\n",
      "[12, 13, 14]\n",
      "[15, 16, 17]\n"
     ]
    }
   ],
   "source": [
    "# 2.1 write a python program to multiply an identity matrix of dimension 3-by-3 with the given matrix a=[[9,10,11],[12,13,14],[15,16,17]]\n",
    "x=[[1,0,0],\n",
    "   [0,1,0],\n",
    "   [0,0,1]]\n",
    "a=[[9,10,11],\n",
    "   [12,13,14],\n",
    "   [15,16,17]]\n",
    "result=[[0,0,0],\n",
    "        [0,0,0],\n",
    "        [0,0,0]]\n",
    "for i in range(len(x)) :\n",
    "    for j in range(len(a[0])):\n",
    "        for k in range(len(a)):\n",
    "            result[i][j]+= x[i][k]*a[k][j]\n",
    "for r in result:\n",
    "    print(r)"
   ]
  },
  {
   "cell_type": "code",
   "execution_count": 12,
   "id": "0f5b141e",
   "metadata": {},
   "outputs": [
    {
     "name": "stdout",
     "output_type": "stream",
     "text": [
      "[80, 80, 100]\n",
      "[109, 118, 70]\n",
      "[136, 90, 160]\n"
     ]
    }
   ],
   "source": [
    "# Write a python program to subtract matrices of dimension 3-by-3 with given matrix\n",
    "# a=[[ 99 110 111]\n",
    "# [121 131 114]\n",
    "# [151 146 177]]\n",
    "# b=[[ 19 30 11]\n",
    "# [12 13 44] [15\n",
    "# 56 17]]\n",
    "\n",
    "a=[[ 99,110,111],\n",
    "[121,131,114],\n",
    " [151,146,177]]\n",
    "b=[[19,30,11],\n",
    " [12,13,44], \n",
    "[15,56,17]]\n",
    "result=[[0,0,0],\n",
    "        [0,0,0],\n",
    "        [0,0,0]]\n",
    "for i in range(len(a)):\n",
    "    for j in range(len(a[0])):\n",
    "                   result[i][j]=a[i][j]-b[i][j]\n",
    "for r in result:\n",
    "    print(r)\n",
    "\n",
    "\n",
    "\n"
   ]
  },
  {
   "cell_type": "code",
   "execution_count": 14,
   "id": "e31c3151",
   "metadata": {},
   "outputs": [
    {
     "data": {
      "image/png": "[encoded data removed]",
      "text/plain": [
       "<Figure size 432x288 with 1 Axes>"
      ]
     },
     "metadata": {
      "needs_background": "light"
     },
     "output_type": "display_data"
    }
   ],
   "source": [
    "# 3.1 write a python  matplotlib program to plot graph between x and y coordinates for below values x=[1,2,3,4,5,6,7,8] y=[2,3,1,3,1,4,2,3]\n",
    "import matplotlib.pyplot as plt\n",
    "x=[1,2,3,4,5,6,7,8]\n",
    "y=[2,3,1,3,1,4,2,3]\n",
    "plt.plot(x,y)\n",
    "plt.show()\n"
   ]
  },
  {
   "cell_type": "code",
   "execution_count": null,
   "id": "30ad3209",
   "metadata": {},
   "outputs": [],
   "source": []
  }
 ],
 "metadata": {
  "kernelspec": {
   "display_name": "Python 3 (ipykernel)",
   "language": "python",
   "name": "python3"
  },
  "language_info": {
   "codemirror_mode": {
    "name": "ipython",
    "version": 3
   },
   "file_extension": ".py",
   "mimetype": "text/x-python",
   "name": "python",
   "nbconvert_exporter": "python",
   "pygments_lexer": "ipython3",
   "version": "3.9.7"
  }
 },
 "nbformat": 4,
 "nbformat_minor": 5
}
