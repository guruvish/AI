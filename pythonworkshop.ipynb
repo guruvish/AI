{
 "cells": [
  {
   "cell_type": "code",
   "execution_count": 1,
   "id": "ddc41b68",
   "metadata": {},
   "outputs": [
    {
     "name": "stdout",
     "output_type": "stream",
     "text": [
      "enter your favourite brand:rc\n",
      "its childrens brand\n"
     ]
    }
   ],
   "source": [
    "brand=input(\"enter your favourite brand:\")\n",
    "if brand==\"rc\":\n",
    "  print(\"its childrens brand\")\n",
    "elif brand==\"kf\":\n",
    " print(\"it is not that much kick\")\n",
    "elif brand==\"fo\":\n",
    "   print(\"buy one get free one\")\n",
    "else:\n",
    "  print(\"other brands are not recommended\")"
   ]
  },
  {
   "cell_type": "code",
   "execution_count": 2,
   "id": "7b55ee36",
   "metadata": {},
   "outputs": [
    {
     "name": "stdout",
     "output_type": "stream",
     "text": [
      "enter first number45\n",
      "enter second number34\n",
      "biggest number is: 45\n"
     ]
    }
   ],
   "source": [
    "#biggest number among 2 numbers:\n",
    "n1=int(input(\"enter first number\"))\n",
    "n2=int(input(\"enter second number\"))\n",
    "if n1>n2:\n",
    "   print(\"biggest number is:\",n1)\n",
    "else:\n",
    "   print(\"biggest number is:\",n2)"
   ]
  },
  {
   "cell_type": "code",
   "execution_count": 4,
   "id": "3c59aafc",
   "metadata": {},
   "outputs": [
    {
     "name": "stdout",
     "output_type": "stream",
     "text": [
      "enter first number:34\n",
      "enter second number:24\n",
      "enter third number:67\n",
      "biggest number is: 67\n"
     ]
    }
   ],
   "source": [
    "n1=int(input(\"enter first number:\"))\n",
    "n2=int(input(\"enter second number:\"))\n",
    "n3=int(input(\"enter third number:\"))\n",
    "if n1>n2 and n1>n3:\n",
    "       print(\"biggest number is :\",n1)\n",
    "elif n2>n3:\n",
    "       print(\"biggest number is :\",n2)\n",
    "else:\n",
    "       print(\"biggest number is:\",n3)"
   ]
  },
  {
   "cell_type": "code",
   "execution_count": 15,
   "id": "7ff0ec2a",
   "metadata": {
    "scrolled": true
   },
   "outputs": [
    {
     "ename": "SyntaxError",
     "evalue": "invalid syntax (Temp/ipykernel_14728/4259326154.py, line 2)",
     "output_type": "error",
     "traceback": [
      "\u001b[1;36m  File \u001b[1;32m\"C:\\Users\\GURUVI~1\\AppData\\Local\\Temp/ipykernel_14728/4259326154.py\"\u001b[1;36m, line \u001b[1;32m2\u001b[0m\n\u001b[1;33m    if n>=1 and n<=10:\u001b[0m\n\u001b[1;37m                     ^\u001b[0m\n\u001b[1;31mSyntaxError\u001b[0m\u001b[1;31m:\u001b[0m invalid syntax\n"
     ]
    }
   ],
   "source": [
    "n=int(input(\"enter number:\")\n",
    "if n>=1 and n<=10:\n",
    "      print(\"the number\",n, \"is in between 1 to 100\")\n",
    "else:\n",
    "      print(\"the number\",n, \"is not in between 1 to 100\")"
   ]
  },
  {
   "cell_type": "code",
   "execution_count": 16,
   "id": "1e91c79a",
   "metadata": {},
   "outputs": [
    {
     "name": "stdout",
     "output_type": "stream",
     "text": [
      "g\n",
      "u\n",
      "r\n",
      "u\n",
      " \n",
      "v\n",
      "i\n",
      "s\n",
      "h\n",
      "n\n",
      "u\n"
     ]
    }
   ],
   "source": [
    "a=\"guru vishnu\"\n",
    "for x in a:\n",
    "    print(x)"
   ]
  },
  {
   "cell_type": "code",
   "execution_count": 20,
   "id": "b83d8e87",
   "metadata": {},
   "outputs": [
    {
     "name": "stdout",
     "output_type": "stream",
     "text": [
      "enter some string:guru vishnu\n",
      "the character present at 0 index is g\n",
      "the character present at 1 index is u\n",
      "the character present at 2 index is r\n",
      "the character present at 3 index is u\n",
      "the character present at 4 index is  \n",
      "the character present at 5 index is v\n",
      "the character present at 6 index is i\n",
      "the character present at 7 index is s\n",
      "the character present at 8 index is h\n",
      "the character present at 9 index is n\n",
      "the character present at 10 index is u\n"
     ]
    }
   ],
   "source": [
    "#to print characters present in string index wise.\n",
    "a=input(\"enter some string:\")\n",
    "i=0\n",
    "for x in a:\n",
    "    print(\"the character present at\",i,\"index is\",x)\n",
    "    i=i+1"
   ]
  },
  {
   "cell_type": "code",
   "execution_count": 21,
   "id": "7b9d82fd",
   "metadata": {},
   "outputs": [
    {
     "name": "stdout",
     "output_type": "stream",
     "text": [
      "0\n",
      "1\n",
      "2\n",
      "3\n",
      "4\n",
      "5\n",
      "6\n",
      "7\n",
      "8\n",
      "9\n",
      "10\n"
     ]
    }
   ],
   "source": [
    "#to display numbers between 0 to 10\n",
    "for x in range(0,11):\n",
    "    print(x)"
   ]
  },
  {
   "cell_type": "code",
   "execution_count": 22,
   "id": "30ccea58",
   "metadata": {},
   "outputs": [
    {
     "name": "stdout",
     "output_type": "stream",
     "text": [
      "1\n",
      "3\n",
      "5\n",
      "7\n",
      "9\n",
      "11\n",
      "13\n",
      "15\n",
      "17\n",
      "19\n"
     ]
    }
   ],
   "source": [
    "#to display odd numbers from 0 to 20\n",
    "for x in range(21):\n",
    "    if(x%2!=0):\n",
    "        print(x)"
   ]
  },
  {
   "cell_type": "code",
   "execution_count": 23,
   "id": "379affd1",
   "metadata": {},
   "outputs": [
    {
     "name": "stdout",
     "output_type": "stream",
     "text": [
      "10\n",
      "9\n",
      "8\n",
      "7\n",
      "6\n",
      "5\n",
      "4\n",
      "3\n",
      "2\n",
      "1\n"
     ]
    }
   ],
   "source": [
    "#to display numbers from 10 to 1 in decreasing order\n",
    "for x in range(10,0,-1):\n",
    "    print(x)"
   ]
  },
  {
   "cell_type": "code",
   "execution_count": 28,
   "id": "88592d2e",
   "metadata": {},
   "outputs": [
    {
     "name": "stdout",
     "output_type": "stream",
     "text": [
      "enter list:[10,20,30,40]\n",
      "the sum= 10\n",
      "the sum= 30\n",
      "the sum= 60\n",
      "the sum= 100\n"
     ]
    }
   ],
   "source": [
    "#to print sum of numbers present inside a list\n",
    "list=eval(input(\"enter list:\"))\n",
    "sum=0\n",
    "for x in list:\n",
    "    sum=sum+x;\n",
    "    print(\"the sum=\",sum)\n",
    "    "
   ]
  },
  {
   "cell_type": "code",
   "execution_count": 29,
   "id": "7aee57ea",
   "metadata": {},
   "outputs": [
    {
     "name": "stdout",
     "output_type": "stream",
     "text": [
      "1\n",
      "2\n",
      "3\n",
      "4\n",
      "5\n",
      "6\n",
      "7\n",
      "8\n",
      "9\n",
      "10\n"
     ]
    }
   ],
   "source": [
    "#to print numbers from 1 to 10 using while loop\n",
    "x=1\n",
    "while x<=10:\n",
    "    print(x)\n",
    "    x=x+1"
   ]
  },
  {
   "cell_type": "code",
   "execution_count": 33,
   "id": "2bf5849d",
   "metadata": {},
   "outputs": [
    {
     "name": "stdout",
     "output_type": "stream",
     "text": [
      "enter numbers:5\n",
      "the sum of first  5 numbers is 1\n",
      "the sum of first  5 numbers is 3\n",
      "the sum of first  5 numbers is 6\n",
      "the sum of first  5 numbers is 10\n",
      "the sum of first  5 numbers is 15\n"
     ]
    }
   ],
   "source": [
    "#to display sum of first of n numbers\n",
    "n=int(input(\"enter numbers:\"))\n",
    "sum=0\n",
    "i=1\n",
    "while i<=n:\n",
    "    sum=sum+i\n",
    "    i=i+1\n",
    "    print(\"the sum of first \",n,\"numbers is\",sum)"
   ]
  },
  {
   "cell_type": "code",
   "execution_count": 38,
   "id": "7a1e12bf",
   "metadata": {},
   "outputs": [
    {
     "ename": "SyntaxError",
     "evalue": "invalid syntax (Temp/ipykernel_14728/297566331.py, line 3)",
     "output_type": "error",
     "traceback": [
      "\u001b[1;36m  File \u001b[1;32m\"C:\\Users\\GURUVI~1\\AppData\\Local\\Temp/ipykernel_14728/297566331.py\"\u001b[1;36m, line \u001b[1;32m3\u001b[0m\n\u001b[1;33m    print(\"i=\",i    \"j=\",j)\u001b[0m\n\u001b[1;37m                    ^\u001b[0m\n\u001b[1;31mSyntaxError\u001b[0m\u001b[1;31m:\u001b[0m invalid syntax\n"
     ]
    }
   ],
   "source": [
    "for i in range(4):\n",
    "    for j in range(4):\n",
    "        print(\"i=\",i    \"j=\",j)"
   ]
  },
  {
   "cell_type": "code",
   "execution_count": 43,
   "id": "9aa9609d",
   "metadata": {},
   "outputs": [
    {
     "name": "stdout",
     "output_type": "stream",
     "text": [
      "enter no.of rows:4\n",
      "*\n",
      "**\n",
      "***\n",
      "****\n"
     ]
    }
   ],
   "source": [
    "n=int(input(\"enter no.of rows:\"))\n",
    "for i in range(1,n+1):\n",
    "    for j in range(1,i+1):\n",
    "        print(\"*\",end=\"\")\n",
    "    print()"
   ]
  },
  {
   "cell_type": "code",
   "execution_count": 44,
   "id": "b9c6fa96",
   "metadata": {},
   "outputs": [
    {
     "name": "stdout",
     "output_type": "stream",
     "text": [
      "enter no.of rows:4\n",
      "*\n",
      "**\n",
      "***\n",
      "****\n"
     ]
    }
   ],
   "source": [
    "#alternative way\n",
    "n=int(input(\"enter no.of rows:\"))\n",
    "for i in range(1,n+1):\n",
    "    print(\"*\"*i)\n",
    "    "
   ]
  },
  {
   "cell_type": "code",
   "execution_count": 63,
   "id": "02d601a1",
   "metadata": {},
   "outputs": [
    {
     "ename": "SyntaxError",
     "evalue": "invalid syntax (Temp/ipykernel_14728/1917207295.py, line 2)",
     "output_type": "error",
     "traceback": [
      "\u001b[1;36m  File \u001b[1;32m\"C:\\Users\\GURUVI~1\\AppData\\Local\\Temp/ipykernel_14728/1917207295.py\"\u001b[1;36m, line \u001b[1;32m2\u001b[0m\n\u001b[1;33m    if i=7:\u001b[0m\n\u001b[1;37m        ^\u001b[0m\n\u001b[1;31mSyntaxError\u001b[0m\u001b[1;31m:\u001b[0m invalid syntax\n"
     ]
    }
   ],
   "source": [
    "for i in range(10):\n",
    "    if i=7:\n",
    "        print(\"processing is enough...pls break\")\n",
    "        break\n",
    "    print(i)"
   ]
  },
  {
   "cell_type": "code",
   "execution_count": null,
   "id": "db1c60e1",
   "metadata": {},
   "outputs": [],
   "source": []
  },
  {
   "cell_type": "code",
   "execution_count": null,
   "id": "947978c0",
   "metadata": {},
   "outputs": [],
   "source": []
  }
 ],
 "metadata": {
  "kernelspec": {
   "display_name": "Python 3 (ipykernel)",
   "language": "python",
   "name": "python3"
  },
  "language_info": {
   "codemirror_mode": {
    "name": "ipython",
    "version": 3
   },
   "file_extension": ".py",
   "mimetype": "text/x-python",
   "name": "python",
   "nbconvert_exporter": "python",
   "pygments_lexer": "ipython3",
   "version": "3.9.7"
  }
 },
 "nbformat": 4,
 "nbformat_minor": 5
}
